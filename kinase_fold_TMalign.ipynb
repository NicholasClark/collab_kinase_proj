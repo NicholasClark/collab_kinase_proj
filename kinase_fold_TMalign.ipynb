{
  "cells": [
    {
      "cell_type": "markdown",
      "id": "2f337d82-4a46-4008-85d1-1e8c34083789",
      "metadata": {
        "id": "2f337d82-4a46-4008-85d1-1e8c34083789"
      },
      "source": [
        "# Kinase fold structural alignment\n",
        "\n",
        "This notebook showcases alignment of kinases by the structure of their ATP-binding folds.\n",
        "\n",
        "The user may select any two human kinases and their ATP-binding domains will be displayed with structures aligned and superimposed. Alignment is done by the TM-align algorithm.\n",
        "\n",
        "For this visualization, we use high-confidence predicted structures from AlphaFold2 (https://alphafold.ebi.ac.uk/)."
      ]
    },
    {
      "cell_type": "markdown",
      "id": "8301c179-e128-43bb-9113-8fbcc1f7ae6a",
      "metadata": {
        "id": "8301c179-e128-43bb-9113-8fbcc1f7ae6a"
      },
      "source": [
        "## Instructions\n",
        "\n",
        "**Choose any two human kinases below by entering their Uniprot entry names.**\n",
        "\n",
        "You may also choose the colors used to display the protein structures."
      ]
    },
    {
      "cell_type": "code",
      "execution_count": 32,
      "id": "021db64f-103a-4e6c-98cd-9232dbe5747f",
      "metadata": {
        "id": "021db64f-103a-4e6c-98cd-9232dbe5747f"
      },
      "outputs": [],
      "source": [
        "### choose proteins to align\n",
        "### Note: for kinases with multiple ATP-binding domains, append \"_1\", \"_2\", etc. to align the specified domain\n",
        "prot1 = \"MTOR_HUMAN\"\n",
        "prot2 = \"ATR_HUMAN\"\n",
        "### choose colors for proteins\n",
        "col1 = \"cyan\"\n",
        "col2 = \"yellow\""
      ]
    },
    {
      "cell_type": "markdown",
      "source": [
        "### Other examples"
      ],
      "metadata": {
        "id": "_rUjqoBeLHQD"
      },
      "id": "_rUjqoBeLHQD"
    },
    {
      "cell_type": "code",
      "execution_count": 33,
      "id": "f0cbe57f-86e0-4ced-9e68-504baf0740dd",
      "metadata": {
        "id": "f0cbe57f-86e0-4ced-9e68-504baf0740dd"
      },
      "outputs": [],
      "source": [
        "#prot1 = \"PK3CA_HUMAN\"\n",
        "#prot2 = \"PK3CB_HUMAN\"\n",
        "#prot1 = \"STK11_HUMAN\"\n",
        "#prot2 = \"GRK7_HUMAN\"\n",
        "#prot1 = \"AKT1_HUMAN\"\n",
        "#prot2 = \"AKT2_HUMAN\"\n",
        "#prot1 = \"KS6A6_HUMAN_1\" ### only works with full_proteins == False\n",
        "#prot2 = \"KS6A6_HUMAN_2\" ### only works with full_proteins == False"
      ]
    },
    {
      "cell_type": "markdown",
      "source": [
        "## Main code"
      ],
      "metadata": {
        "id": "9Lo_vhxlLRiB"
      },
      "id": "9Lo_vhxlLRiB"
    },
    {
      "cell_type": "markdown",
      "id": "ed7d074c-ad04-4eec-b97f-32413e46780d",
      "metadata": {
        "id": "ed7d074c-ad04-4eec-b97f-32413e46780d"
      },
      "source": [
        "### Install necessary Python packages"
      ]
    },
    {
      "cell_type": "code",
      "execution_count": 34,
      "id": "05c6a134-e068-45f6-831d-65c7c54833f1",
      "metadata": {
        "id": "05c6a134-e068-45f6-831d-65c7c54833f1",
        "outputId": "8a473dd3-6e27-4a52-aff0-e81e9c97ad25",
        "colab": {
          "base_uri": "https://localhost:8080/"
        }
      },
      "outputs": [
        {
          "output_type": "stream",
          "name": "stdout",
          "text": [
            "Requirement already satisfied: biopython in /usr/local/lib/python3.7/dist-packages (1.79)\n",
            "Requirement already satisfied: numpy in /usr/local/lib/python3.7/dist-packages (from biopython) (1.21.6)\n",
            "Requirement already satisfied: pyprojroot in /usr/local/lib/python3.7/dist-packages (0.2.0)\n",
            "Requirement already satisfied: py3Dmol in /usr/local/lib/python3.7/dist-packages (1.8.0)\n"
          ]
        }
      ],
      "source": [
        "!pip install biopython\n",
        "!pip install pyprojroot\n",
        "!pip install py3Dmol"
      ]
    },
    {
      "cell_type": "markdown",
      "id": "c76ebcc7-e23a-4f00-81f5-f2947f72c14d",
      "metadata": {
        "id": "c76ebcc7-e23a-4f00-81f5-f2947f72c14d"
      },
      "source": [
        "### Load packages"
      ]
    },
    {
      "cell_type": "code",
      "execution_count": 35,
      "id": "6040b202",
      "metadata": {
        "id": "6040b202"
      },
      "outputs": [],
      "source": [
        "from Bio.PDB import *\n",
        "from pyprojroot import here\n",
        "import os\n",
        "#import nglview as nv\n",
        "import py3Dmol\n",
        "import numpy as np\n",
        "import pickle\n",
        "import pandas as pd\n",
        "import seaborn as sns"
      ]
    },
    {
      "cell_type": "markdown",
      "source": [
        "### Download data"
      ],
      "metadata": {
        "id": "ZMjm2-WCI2ft"
      },
      "id": "ZMjm2-WCI2ft"
    },
    {
      "cell_type": "code",
      "source": [
        "pf = \"AF2_pocketome_tm_score.pkl\"\n",
        "check = not os.path.exists(pf)\n",
        "call = \"wget \" + \"https://github.com/NicholasClark/collab_kinase_proj/raw/master/\" + pf\n",
        "print(call)\n",
        "if check:\n",
        "  os.system(call)"
      ],
      "metadata": {
        "id": "gUnvxwZPIzW_",
        "outputId": "13a3ae2d-7604-44d7-d98e-86ec50eff74b",
        "colab": {
          "base_uri": "https://localhost:8080/"
        }
      },
      "id": "gUnvxwZPIzW_",
      "execution_count": 36,
      "outputs": [
        {
          "output_type": "stream",
          "name": "stdout",
          "text": [
            "wget https://github.com/NicholasClark/collab_kinase_proj/raw/master/AF2_pocketome_tm_score.pkl\n"
          ]
        }
      ]
    },
    {
      "cell_type": "markdown",
      "id": "be45e79b-3f3b-4eb2-b8f1-5ef98fe73263",
      "metadata": {
        "id": "be45e79b-3f3b-4eb2-b8f1-5ef98fe73263"
      },
      "source": [
        "### Load necessary data files -- a pkl file of TM-align output and a CSV with kinase metadata"
      ]
    },
    {
      "cell_type": "code",
      "execution_count": 37,
      "id": "98f23cf5",
      "metadata": {
        "id": "98f23cf5"
      },
      "outputs": [],
      "source": [
        "### load pkl file\n",
        "pkl_file = \"AF2_pocketome_tm_score.pkl\"\n",
        "f = open(pkl_file, \"rb\")\n",
        "tmp = pickle.load(f)\n",
        "f.close()\n",
        "\n",
        "### load csv file with metadata\n",
        "csv_file = \"https://github.com/NicholasClark/collab_kinase_proj/raw/master/kinome_plus_pocket_meta_2022_04_06.csv\"\n",
        "df = pd.read_csv(csv_file)"
      ]
    },
    {
      "cell_type": "markdown",
      "id": "0ede4656-978a-43cc-9072-0dbe56d84cd3",
      "metadata": {
        "id": "0ede4656-978a-43cc-9072-0dbe56d84cd3"
      },
      "source": [
        "### Kinase metadata"
      ]
    },
    {
      "cell_type": "code",
      "execution_count": 38,
      "id": "71a4fca4",
      "metadata": {
        "id": "71a4fca4",
        "outputId": "864aff10-d92e-4af5-858d-d9cf0d715859",
        "colab": {
          "base_uri": "https://localhost:8080/",
          "height": 0
        }
      },
      "outputs": [
        {
          "output_type": "execute_result",
          "data": {
            "text/plain": [
              "    uniprot_name_mod uniprot_accession         gene_names  \\\n",
              "0         AAK1_HUMAN            Q2M2I8      AAK1 KIAA1048   \n",
              "1        AAPK1_HUMAN            Q13131       PRKAA1 AMPK1   \n",
              "2        AAPK2_HUMAN            P54646  PRKAA2 AMPK AMPK2   \n",
              "3         ABL1_HUMAN            P00519      ABL1 ABL JTK7   \n",
              "4         ABL2_HUMAN            P42684      ABL2 ABLL ARG   \n",
              "..               ...               ...                ...   \n",
              "705       WNK4_HUMAN            Q96J92       WNK4 PRKWNK4   \n",
              "706       XYLB_HUMAN            O75191               XYLB   \n",
              "707       XYLK_HUMAN            O75063    FAM20B KIAA0475   \n",
              "708        YES_HUMAN            P07947           YES1 YES   \n",
              "709      ZAP70_HUMAN            P43403          ZAP70 SRK   \n",
              "\n",
              "                                         protein_names hgnc_symbol  \\\n",
              "0    AP2-associated protein kinase 1 (EC 2.7.11.1) ...        AAK1   \n",
              "1    5'-AMP-activated protein kinase catalytic subu...      PRKAA1   \n",
              "2    5'-AMP-activated protein kinase catalytic subu...      PRKAA2   \n",
              "3    Tyrosine-protein kinase ABL1 (EC 2.7.10.2) (Ab...        ABL1   \n",
              "4    Tyrosine-protein kinase ABL2 (EC 2.7.10.2) (Ab...        ABL2   \n",
              "..                                                 ...         ...   \n",
              "705  Serine/threonine-protein kinase WNK4 (EC 2.7.1...        WNK4   \n",
              "706       Xylulose kinase (Xylulokinase) (EC 2.7.1.17)        XYLB   \n",
              "707  Glycosaminoglycan xylosylkinase (EC 2.7.1.-) (...      FAM20B   \n",
              "708  Tyrosine-protein kinase Yes (EC 2.7.10.2) (Pro...        YES1   \n",
              "709  Tyrosine-protein kinase ZAP-70 (EC 2.7.10.2) (...       ZAP70   \n",
              "\n",
              "     is_idg_dark_kinase  \n",
              "0                     0  \n",
              "1                     0  \n",
              "2                     0  \n",
              "3                     0  \n",
              "4                     0  \n",
              "..                  ...  \n",
              "705                   0  \n",
              "706                   0  \n",
              "707                   0  \n",
              "708                   0  \n",
              "709                   0  \n",
              "\n",
              "[710 rows x 6 columns]"
            ],
            "text/html": [
              "\n",
              "  <div id=\"df-2379e9a6-8e64-4629-8898-b64c98295e5e\">\n",
              "    <div class=\"colab-df-container\">\n",
              "      <div>\n",
              "<style scoped>\n",
              "    .dataframe tbody tr th:only-of-type {\n",
              "        vertical-align: middle;\n",
              "    }\n",
              "\n",
              "    .dataframe tbody tr th {\n",
              "        vertical-align: top;\n",
              "    }\n",
              "\n",
              "    .dataframe thead th {\n",
              "        text-align: right;\n",
              "    }\n",
              "</style>\n",
              "<table border=\"1\" class=\"dataframe\">\n",
              "  <thead>\n",
              "    <tr style=\"text-align: right;\">\n",
              "      <th></th>\n",
              "      <th>uniprot_name_mod</th>\n",
              "      <th>uniprot_accession</th>\n",
              "      <th>gene_names</th>\n",
              "      <th>protein_names</th>\n",
              "      <th>hgnc_symbol</th>\n",
              "      <th>is_idg_dark_kinase</th>\n",
              "    </tr>\n",
              "  </thead>\n",
              "  <tbody>\n",
              "    <tr>\n",
              "      <th>0</th>\n",
              "      <td>AAK1_HUMAN</td>\n",
              "      <td>Q2M2I8</td>\n",
              "      <td>AAK1 KIAA1048</td>\n",
              "      <td>AP2-associated protein kinase 1 (EC 2.7.11.1) ...</td>\n",
              "      <td>AAK1</td>\n",
              "      <td>0</td>\n",
              "    </tr>\n",
              "    <tr>\n",
              "      <th>1</th>\n",
              "      <td>AAPK1_HUMAN</td>\n",
              "      <td>Q13131</td>\n",
              "      <td>PRKAA1 AMPK1</td>\n",
              "      <td>5'-AMP-activated protein kinase catalytic subu...</td>\n",
              "      <td>PRKAA1</td>\n",
              "      <td>0</td>\n",
              "    </tr>\n",
              "    <tr>\n",
              "      <th>2</th>\n",
              "      <td>AAPK2_HUMAN</td>\n",
              "      <td>P54646</td>\n",
              "      <td>PRKAA2 AMPK AMPK2</td>\n",
              "      <td>5'-AMP-activated protein kinase catalytic subu...</td>\n",
              "      <td>PRKAA2</td>\n",
              "      <td>0</td>\n",
              "    </tr>\n",
              "    <tr>\n",
              "      <th>3</th>\n",
              "      <td>ABL1_HUMAN</td>\n",
              "      <td>P00519</td>\n",
              "      <td>ABL1 ABL JTK7</td>\n",
              "      <td>Tyrosine-protein kinase ABL1 (EC 2.7.10.2) (Ab...</td>\n",
              "      <td>ABL1</td>\n",
              "      <td>0</td>\n",
              "    </tr>\n",
              "    <tr>\n",
              "      <th>4</th>\n",
              "      <td>ABL2_HUMAN</td>\n",
              "      <td>P42684</td>\n",
              "      <td>ABL2 ABLL ARG</td>\n",
              "      <td>Tyrosine-protein kinase ABL2 (EC 2.7.10.2) (Ab...</td>\n",
              "      <td>ABL2</td>\n",
              "      <td>0</td>\n",
              "    </tr>\n",
              "    <tr>\n",
              "      <th>...</th>\n",
              "      <td>...</td>\n",
              "      <td>...</td>\n",
              "      <td>...</td>\n",
              "      <td>...</td>\n",
              "      <td>...</td>\n",
              "      <td>...</td>\n",
              "    </tr>\n",
              "    <tr>\n",
              "      <th>705</th>\n",
              "      <td>WNK4_HUMAN</td>\n",
              "      <td>Q96J92</td>\n",
              "      <td>WNK4 PRKWNK4</td>\n",
              "      <td>Serine/threonine-protein kinase WNK4 (EC 2.7.1...</td>\n",
              "      <td>WNK4</td>\n",
              "      <td>0</td>\n",
              "    </tr>\n",
              "    <tr>\n",
              "      <th>706</th>\n",
              "      <td>XYLB_HUMAN</td>\n",
              "      <td>O75191</td>\n",
              "      <td>XYLB</td>\n",
              "      <td>Xylulose kinase (Xylulokinase) (EC 2.7.1.17)</td>\n",
              "      <td>XYLB</td>\n",
              "      <td>0</td>\n",
              "    </tr>\n",
              "    <tr>\n",
              "      <th>707</th>\n",
              "      <td>XYLK_HUMAN</td>\n",
              "      <td>O75063</td>\n",
              "      <td>FAM20B KIAA0475</td>\n",
              "      <td>Glycosaminoglycan xylosylkinase (EC 2.7.1.-) (...</td>\n",
              "      <td>FAM20B</td>\n",
              "      <td>0</td>\n",
              "    </tr>\n",
              "    <tr>\n",
              "      <th>708</th>\n",
              "      <td>YES_HUMAN</td>\n",
              "      <td>P07947</td>\n",
              "      <td>YES1 YES</td>\n",
              "      <td>Tyrosine-protein kinase Yes (EC 2.7.10.2) (Pro...</td>\n",
              "      <td>YES1</td>\n",
              "      <td>0</td>\n",
              "    </tr>\n",
              "    <tr>\n",
              "      <th>709</th>\n",
              "      <td>ZAP70_HUMAN</td>\n",
              "      <td>P43403</td>\n",
              "      <td>ZAP70 SRK</td>\n",
              "      <td>Tyrosine-protein kinase ZAP-70 (EC 2.7.10.2) (...</td>\n",
              "      <td>ZAP70</td>\n",
              "      <td>0</td>\n",
              "    </tr>\n",
              "  </tbody>\n",
              "</table>\n",
              "<p>710 rows × 6 columns</p>\n",
              "</div>\n",
              "      <button class=\"colab-df-convert\" onclick=\"convertToInteractive('df-2379e9a6-8e64-4629-8898-b64c98295e5e')\"\n",
              "              title=\"Convert this dataframe to an interactive table.\"\n",
              "              style=\"display:none;\">\n",
              "        \n",
              "  <svg xmlns=\"http://www.w3.org/2000/svg\" height=\"24px\"viewBox=\"0 0 24 24\"\n",
              "       width=\"24px\">\n",
              "    <path d=\"M0 0h24v24H0V0z\" fill=\"none\"/>\n",
              "    <path d=\"M18.56 5.44l.94 2.06.94-2.06 2.06-.94-2.06-.94-.94-2.06-.94 2.06-2.06.94zm-11 1L8.5 8.5l.94-2.06 2.06-.94-2.06-.94L8.5 2.5l-.94 2.06-2.06.94zm10 10l.94 2.06.94-2.06 2.06-.94-2.06-.94-.94-2.06-.94 2.06-2.06.94z\"/><path d=\"M17.41 7.96l-1.37-1.37c-.4-.4-.92-.59-1.43-.59-.52 0-1.04.2-1.43.59L10.3 9.45l-7.72 7.72c-.78.78-.78 2.05 0 2.83L4 21.41c.39.39.9.59 1.41.59.51 0 1.02-.2 1.41-.59l7.78-7.78 2.81-2.81c.8-.78.8-2.07 0-2.86zM5.41 20L4 18.59l7.72-7.72 1.47 1.35L5.41 20z\"/>\n",
              "  </svg>\n",
              "      </button>\n",
              "      \n",
              "  <style>\n",
              "    .colab-df-container {\n",
              "      display:flex;\n",
              "      flex-wrap:wrap;\n",
              "      gap: 12px;\n",
              "    }\n",
              "\n",
              "    .colab-df-convert {\n",
              "      background-color: #E8F0FE;\n",
              "      border: none;\n",
              "      border-radius: 50%;\n",
              "      cursor: pointer;\n",
              "      display: none;\n",
              "      fill: #1967D2;\n",
              "      height: 32px;\n",
              "      padding: 0 0 0 0;\n",
              "      width: 32px;\n",
              "    }\n",
              "\n",
              "    .colab-df-convert:hover {\n",
              "      background-color: #E2EBFA;\n",
              "      box-shadow: 0px 1px 2px rgba(60, 64, 67, 0.3), 0px 1px 3px 1px rgba(60, 64, 67, 0.15);\n",
              "      fill: #174EA6;\n",
              "    }\n",
              "\n",
              "    [theme=dark] .colab-df-convert {\n",
              "      background-color: #3B4455;\n",
              "      fill: #D2E3FC;\n",
              "    }\n",
              "\n",
              "    [theme=dark] .colab-df-convert:hover {\n",
              "      background-color: #434B5C;\n",
              "      box-shadow: 0px 1px 3px 1px rgba(0, 0, 0, 0.15);\n",
              "      filter: drop-shadow(0px 1px 2px rgba(0, 0, 0, 0.3));\n",
              "      fill: #FFFFFF;\n",
              "    }\n",
              "  </style>\n",
              "\n",
              "      <script>\n",
              "        const buttonEl =\n",
              "          document.querySelector('#df-2379e9a6-8e64-4629-8898-b64c98295e5e button.colab-df-convert');\n",
              "        buttonEl.style.display =\n",
              "          google.colab.kernel.accessAllowed ? 'block' : 'none';\n",
              "\n",
              "        async function convertToInteractive(key) {\n",
              "          const element = document.querySelector('#df-2379e9a6-8e64-4629-8898-b64c98295e5e');\n",
              "          const dataTable =\n",
              "            await google.colab.kernel.invokeFunction('convertToInteractive',\n",
              "                                                     [key], {});\n",
              "          if (!dataTable) return;\n",
              "\n",
              "          const docLinkHtml = 'Like what you see? Visit the ' +\n",
              "            '<a target=\"_blank\" href=https://colab.research.google.com/notebooks/data_table.ipynb>data table notebook</a>'\n",
              "            + ' to learn more about interactive tables.';\n",
              "          element.innerHTML = '';\n",
              "          dataTable['output_type'] = 'display_data';\n",
              "          await google.colab.output.renderOutput(dataTable, element);\n",
              "          const docLink = document.createElement('div');\n",
              "          docLink.innerHTML = docLinkHtml;\n",
              "          element.appendChild(docLink);\n",
              "        }\n",
              "      </script>\n",
              "    </div>\n",
              "  </div>\n",
              "  "
            ]
          },
          "metadata": {},
          "execution_count": 38
        }
      ],
      "source": [
        "### the column \"uniprot_name_mod\" contains uniprot entry names for all human kinases\n",
        "### Note: kinases with multiple ATP-binding domains are listed multiple times here, with \"_1\", \"_2\", etc. appended.\n",
        "df[['uniprot_name_mod', 'uniprot_accession', 'gene_names', 'protein_names', 'hgnc_symbol','is_idg_dark_kinase']]"
      ]
    },
    {
      "cell_type": "markdown",
      "id": "2edc3ea2-683b-4a5c-b392-bd74912f9c65",
      "metadata": {
        "id": "2edc3ea2-683b-4a5c-b392-bd74912f9c65"
      },
      "source": [
        "### Helper functions"
      ]
    },
    {
      "cell_type": "code",
      "execution_count": 39,
      "id": "af559363",
      "metadata": {
        "id": "af559363"
      },
      "outputs": [],
      "source": [
        "## function to take uniprot name and translate to the accession number\n",
        "## @input uni_name - a uniprot name (i.e. \"STK11_HUMAN\") -- kinases with multiple ATP-binding domains will have \"_1\" or \"_2\" appended \n",
        "## @return the corresponding uniprot accession number -- again some will be appended with \"_1\" or \"_2\"\n",
        "def uni_name_to_acc(uni_name):\n",
        "    ind = np.where(df.uniprot_name_mod == uni_name)\n",
        "    uni_acc = df.uniprot_accession_mod[int(ind[0])]\n",
        "    return(uni_acc)\n",
        "\n",
        "## function to take two proteins and get the TM-align rotation matrix + translation vector\n",
        "## @input a,b - two uniprot accession numbers \n",
        "## @return u,t - a rotation matrix u and a translation vector t\n",
        "def get_rot_mat(a,b):\n",
        "    l1 = tmp['uni1']\n",
        "    l2 = tmp['uni2']\n",
        "    u_list = tmp['u']\n",
        "    t_list = tmp['t']\n",
        "    tm1 = tmp['tm1']\n",
        "    tm2 = tmp['tm2']\n",
        "    for i in range(0,len(l1)):\n",
        "        if l1[i] == a and l2[i] == b:\n",
        "            u = u_list[i]\n",
        "            t = t_list[i]\n",
        "            tm_1 = tm1[i]\n",
        "            tm_2 = tm2[i]\n",
        "            order = \"same\"\n",
        "            return(u, t, tm_1, tm_2, order)\n",
        "        if l1[i] == b and l2[i] == a:\n",
        "            u = u_list[i]\n",
        "            t = t_list[i]\n",
        "            tm_1 = tm1[i]\n",
        "            tm_2 = tm2[i]\n",
        "            order = \"reverse\"\n",
        "            return(u, t, tm_1, tm_2, order)\n",
        "        ## if not found, return empty lists\n",
        "    return([], [], [], [], [])"
      ]
    },
    {
      "cell_type": "code",
      "source": [
        "acc1 = uni_name_to_acc(prot1)\n",
        "acc2 = uni_name_to_acc(prot2)\n",
        "file1 = \"https://github.com/NicholasClark/collab_kinase_proj/raw/master/AF2_kinase_pockets/\" + acc1 + \"_pocket_only.pdb\"\n",
        "file2 = \"https://github.com/NicholasClark/collab_kinase_proj/raw/master/AF2_kinase_pockets/\" + acc2 + \"_pocket_only.pdb\"\n",
        "os.system(\"wget \" + file1)\n",
        "os.system(\"wget \" + file2)"
      ],
      "metadata": {
        "id": "WajY9iffEvM5",
        "outputId": "4273fe35-6c51-4d8a-9cd0-325a04a2482f",
        "colab": {
          "base_uri": "https://localhost:8080/"
        }
      },
      "id": "WajY9iffEvM5",
      "execution_count": 40,
      "outputs": [
        {
          "output_type": "execute_result",
          "data": {
            "text/plain": [
              "0"
            ]
          },
          "metadata": {},
          "execution_count": 40
        }
      ]
    },
    {
      "cell_type": "markdown",
      "id": "de3966e7-9148-423e-9072-80d2d450e63c",
      "metadata": {
        "id": "de3966e7-9148-423e-9072-80d2d450e63c"
      },
      "source": [
        "### Load and align kinase structures"
      ]
    },
    {
      "cell_type": "code",
      "execution_count": 41,
      "id": "a0a98c0b",
      "metadata": {
        "id": "a0a98c0b",
        "colab": {
          "base_uri": "https://localhost:8080/"
        },
        "outputId": "6ca31db7-37d6-4e22-e288-0181ab91cfc7"
      },
      "outputs": [
        {
          "output_type": "execute_result",
          "data": {
            "text/plain": [
              "0"
            ]
          },
          "metadata": {},
          "execution_count": 41
        }
      ],
      "source": [
        "acc1 = uni_name_to_acc(prot1)\n",
        "acc2 = uni_name_to_acc(prot2)\n",
        "\n",
        "file1_full = \"AF-\" + acc1 + \"-F1-model_v2.pdb\"\n",
        "file2_full = \"AF-\" + acc2 + \"-F1-model_v2.pdb\"\n",
        "os.system(\"wget \" + \"https://github.com/NicholasClark/collab_kinase_proj/raw/master/AF2/\" + file1_full)\n",
        "os.system(\"wget \" + \"https://github.com/NicholasClark/collab_kinase_proj/raw/master/AF2/\" + file2_full)\n",
        "\n",
        "file1 = acc1 + \"_pocket_only.pdb\"\n",
        "file2 = acc2 + \"_pocket_only.pdb\"\n",
        "os.system(\"wget \" + \"https://github.com/NicholasClark/collab_kinase_proj/raw/master/AF2_kinase_pockets/\" + file1)\n",
        "os.system(\"wget \" + \"https://github.com/NicholasClark/collab_kinase_proj/raw/master/AF2_kinase_pockets/\" + file2)"
      ]
    },
    {
      "cell_type": "code",
      "source": [
        "parser = PDBParser()\n",
        "str1 = parser.get_structure(prot1, file1)\n",
        "str2 = parser.get_structure(prot2, file2)\n",
        "\n",
        "u,t,tm1,tm2,order = get_rot_mat(acc1, acc2)\n",
        "\n",
        "if order == \"same\":\n",
        "    str1.transform(u.T, t)\n",
        "else:\n",
        "    str2.transform(u.T, t)\n",
        "\n",
        "tmp_f1 = \"str1.pdb\"\n",
        "tmp_f2 = \"str2.pdb\"\n",
        "io=PDBIO()\n",
        "io.set_structure(str1)\n",
        "io.save(tmp_f1)\n",
        "io=PDBIO()\n",
        "io.set_structure(str2)\n",
        "io.save(tmp_f2)"
      ],
      "metadata": {
        "id": "j78ajbl-Jxac"
      },
      "id": "j78ajbl-Jxac",
      "execution_count": 42,
      "outputs": []
    },
    {
      "cell_type": "code",
      "source": [
        "str1_full = parser.get_structure(prot1, file1_full)\n",
        "str2_full = parser.get_structure(prot2, file2_full)\n",
        "\n",
        "u_full,t_full,tm1_full,tm2_full,order_full = get_rot_mat(acc1, acc2)\n",
        "\n",
        "if order_full == \"same\":\n",
        "    str1_full.transform(u.T, t)\n",
        "else:\n",
        "    str2_full.transform(u.T, t)\n",
        "\n",
        "tmp_f1_full = \"str1_full.pdb\"\n",
        "tmp_f2_full = \"str2_full.pdb\"\n",
        "io=PDBIO()\n",
        "io.set_structure(str1_full)\n",
        "io.save(tmp_f1_full)\n",
        "io=PDBIO()\n",
        "io.set_structure(str2_full)\n",
        "io.save(tmp_f2_full)"
      ],
      "metadata": {
        "id": "wkU_xl3MWuv5"
      },
      "id": "wkU_xl3MWuv5",
      "execution_count": 43,
      "outputs": []
    },
    {
      "cell_type": "markdown",
      "source": [
        "## Output"
      ],
      "metadata": {
        "id": "Ps5CQXcSLWrl"
      },
      "id": "Ps5CQXcSLWrl"
    },
    {
      "cell_type": "markdown",
      "id": "14e0483d-9d28-45f8-bbe4-0dc2f4499d44",
      "metadata": {
        "id": "14e0483d-9d28-45f8-bbe4-0dc2f4499d44"
      },
      "source": [
        "### Kinase alignment visualization\n",
        "\n",
        "The aligned kinases are displayed along with their TM-scores.\n",
        "Note that the TM-score is normalized by the length of the reference protein, so there are two possible TM-scores -- both are displayed:"
      ]
    },
    {
      "cell_type": "markdown",
      "source": [
        "#### ATP-binding domains only"
      ],
      "metadata": {
        "id": "BDZVU1GdYELQ"
      },
      "id": "BDZVU1GdYELQ"
    },
    {
      "cell_type": "code",
      "execution_count": null,
      "id": "cd92d683",
      "metadata": {
        "id": "cd92d683"
      },
      "outputs": [],
      "source": [
        "### print TM-score\n",
        "print(prot1 + \": \" + acc1)\n",
        "print(prot2 + \": \" + acc2)\n",
        "print(\"TM-score 1: \" + str( round(tm1, 2)) )\n",
        "print(\"TM-score 2: \" + str( round(tm2, 2)) )\n",
        "### View protein overlays\n",
        "view = py3Dmol.view()\n",
        "view.addModel(open(tmp_f1, 'r').read(), 'pdb')\n",
        "view.setStyle({'model': 0},{'cartoon':{'color':col1}})\n",
        "view.addModel(open(tmp_f2, 'r').read(), 'pdb')\n",
        "view.setStyle({'model': 1},{'cartoon':{'color':col2}})\n",
        "view.zoomTo()\n",
        "view.show()"
      ]
    },
    {
      "cell_type": "markdown",
      "source": [
        "#### Full kinase structures"
      ],
      "metadata": {
        "id": "-KfkeG2IX8vD"
      },
      "id": "-KfkeG2IX8vD"
    },
    {
      "cell_type": "code",
      "source": [
        "### print TM-score\n",
        "print(prot1 + \": \" + acc1)\n",
        "print(prot2 + \": \" + acc2)\n",
        "print(\"TM-score 1: \" + str( round(tm1_full, 2)) )\n",
        "print(\"TM-score 2: \" + str( round(tm2_full, 2)) )\n",
        "### View protein overlays\n",
        "view = py3Dmol.view()\n",
        "view.addModel(open(tmp_f1_full, 'r').read(), 'pdb')\n",
        "view.setStyle({'model': 0},{'cartoon':{'color':col1}})\n",
        "view.addModel(open(tmp_f2_full, 'r').read(), 'pdb')\n",
        "view.setStyle({'model': 1},{'cartoon':{'color':col2}})\n",
        "view.zoomTo()\n",
        "view.show()"
      ],
      "metadata": {
        "id": "ImXw7A8GXsQt"
      },
      "id": "ImXw7A8GXsQt",
      "execution_count": null,
      "outputs": []
    },
    {
      "cell_type": "markdown",
      "id": "efe66340-4879-479f-9075-a3f550969460",
      "metadata": {
        "id": "efe66340-4879-479f-9075-a3f550969460"
      },
      "source": [
        "#### Heatmap of TM-scores\n",
        "\n",
        "This heatmap shows pairwise TM-scores of kinases (ATP-binding domain only).\n",
        "\n",
        "Each TM-score is between 0 (no alignment) and 1 (perfect alignment)."
      ]
    },
    {
      "cell_type": "code",
      "execution_count": null,
      "id": "92831a47-b196-4aa0-984b-43db176876c1",
      "metadata": {
        "id": "92831a47-b196-4aa0-984b-43db176876c1"
      },
      "outputs": [],
      "source": [
        "mat = tmp['tm_max_mat']\n",
        "sns.clustermap(mat, cmap=\"YlOrRd\", vmin=0, vmax=1)"
      ]
    }
  ],
  "metadata": {
    "kernelspec": {
      "display_name": "Python 3",
      "language": "python",
      "name": "python3"
    },
    "language_info": {
      "codemirror_mode": {
        "name": "ipython",
        "version": 3
      },
      "file_extension": ".py",
      "mimetype": "text/x-python",
      "name": "python",
      "nbconvert_exporter": "python",
      "pygments_lexer": "ipython3",
      "version": "3.8.8"
    },
    "colab": {
      "name": "Kinase fold structural alignment",
      "provenance": [],
      "collapsed_sections": [
        "_rUjqoBeLHQD",
        "9Lo_vhxlLRiB",
        "ed7d074c-ad04-4eec-b97f-32413e46780d",
        "c76ebcc7-e23a-4f00-81f5-f2947f72c14d",
        "ZMjm2-WCI2ft",
        "0ede4656-978a-43cc-9072-0dbe56d84cd3",
        "2edc3ea2-683b-4a5c-b392-bd74912f9c65"
      ]
    }
  },
  "nbformat": 4,
  "nbformat_minor": 5
}